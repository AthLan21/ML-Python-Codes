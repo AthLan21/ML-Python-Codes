{
 "cells": [
  {
   "cell_type": "code",
   "execution_count": 47,
   "metadata": {},
   "outputs": [],
   "source": [
    "import pandas as pd\n",
    "import numpy as np\n",
    "\n",
    "df = pd.read_csv('father_son_hgt.csv')"
   ]
  },
  {
   "cell_type": "code",
   "execution_count": 3,
   "metadata": {},
   "outputs": [
    {
     "data": {
      "text/html": [
       "<div>\n",
       "<style scoped>\n",
       "    .dataframe tbody tr th:only-of-type {\n",
       "        vertical-align: middle;\n",
       "    }\n",
       "\n",
       "    .dataframe tbody tr th {\n",
       "        vertical-align: top;\n",
       "    }\n",
       "\n",
       "    .dataframe thead th {\n",
       "        text-align: right;\n",
       "    }\n",
       "</style>\n",
       "<table border=\"1\" class=\"dataframe\">\n",
       "  <thead>\n",
       "    <tr style=\"text-align: right;\">\n",
       "      <th></th>\n",
       "      <th>Father</th>\n",
       "      <th>Son</th>\n",
       "    </tr>\n",
       "  </thead>\n",
       "  <tbody>\n",
       "    <tr>\n",
       "      <th>0</th>\n",
       "      <td>65.0</td>\n",
       "      <td>59.8</td>\n",
       "    </tr>\n",
       "    <tr>\n",
       "      <th>1</th>\n",
       "      <td>63.3</td>\n",
       "      <td>63.2</td>\n",
       "    </tr>\n",
       "    <tr>\n",
       "      <th>2</th>\n",
       "      <td>65.0</td>\n",
       "      <td>63.3</td>\n",
       "    </tr>\n",
       "    <tr>\n",
       "      <th>3</th>\n",
       "      <td>65.8</td>\n",
       "      <td>62.8</td>\n",
       "    </tr>\n",
       "    <tr>\n",
       "      <th>4</th>\n",
       "      <td>61.1</td>\n",
       "      <td>64.3</td>\n",
       "    </tr>\n",
       "  </tbody>\n",
       "</table>\n",
       "</div>"
      ],
      "text/plain": [
       "   Father   Son\n",
       "0    65.0  59.8\n",
       "1    63.3  63.2\n",
       "2    65.0  63.3\n",
       "3    65.8  62.8\n",
       "4    61.1  64.3"
      ]
     },
     "execution_count": 3,
     "metadata": {},
     "output_type": "execute_result"
    }
   ],
   "source": [
    "df.head()"
   ]
  },
  {
   "cell_type": "code",
   "execution_count": 4,
   "metadata": {},
   "outputs": [
    {
     "data": {
      "text/plain": [
       "Father    0\n",
       "Son       0\n",
       "dtype: int64"
      ]
     },
     "execution_count": 4,
     "metadata": {},
     "output_type": "execute_result"
    }
   ],
   "source": [
    "df.isnull().sum()"
   ]
  },
  {
   "cell_type": "code",
   "execution_count": 5,
   "metadata": {},
   "outputs": [
    {
     "name": "stdout",
     "output_type": "stream",
     "text": [
      "<class 'pandas.core.frame.DataFrame'>\n",
      "RangeIndex: 1078 entries, 0 to 1077\n",
      "Data columns (total 2 columns):\n",
      " #   Column  Non-Null Count  Dtype  \n",
      "---  ------  --------------  -----  \n",
      " 0   Father  1078 non-null   float64\n",
      " 1   Son     1078 non-null   float64\n",
      "dtypes: float64(2)\n",
      "memory usage: 17.0 KB\n"
     ]
    }
   ],
   "source": [
    "df.info()"
   ]
  },
  {
   "cell_type": "code",
   "execution_count": 38,
   "metadata": {},
   "outputs": [],
   "source": [
    "X = df.drop(['Son'], axis=1)\n",
    "y = df['Son']"
   ]
  },
  {
   "cell_type": "code",
   "execution_count": 39,
   "metadata": {},
   "outputs": [],
   "source": [
    "from sklearn.model_selection import train_test_split\n",
    "\n",
    "X_train,X_test,y_train,y_test = train_test_split(X,y,test_size=0.2,random_state=100)"
   ]
  },
  {
   "cell_type": "code",
   "execution_count": 40,
   "metadata": {},
   "outputs": [],
   "source": [
    "from sklearn.linear_model import LinearRegression\n",
    "\n",
    "my_model = LinearRegression()\n",
    "\n",
    "result = my_model.fit(X_train,y_train)"
   ]
  },
  {
   "cell_type": "code",
   "execution_count": 41,
   "metadata": {},
   "outputs": [],
   "source": [
    "prediction = result.predict(X_test)"
   ]
  },
  {
   "cell_type": "code",
   "execution_count": 42,
   "metadata": {},
   "outputs": [
    {
     "data": {
      "text/plain": [
       "array([68.80563507, 69.3271145 , 68.23200769, 69.95288982, 67.71052826,\n",
       "       68.02341592, 67.44978854, 67.18904883, 68.17985975, 70.99584869,\n",
       "       69.3271145 , 70.1614816 , 69.17067067, 67.24119677, 70.47436926,\n",
       "       68.64919124, 65.62461053, 70.10933365, 67.7626762 , 67.44978854,\n",
       "       68.9620789 , 67.86697209, 67.3976406 , 68.85778301, 67.71052826,\n",
       "       67.032605  , 67.71052826, 68.33630358, 69.22281862, 65.88535024,\n",
       "       69.58785422, 69.90074188, 68.75348713, 67.3976406 , 68.02341592,\n",
       "       69.37926245, 68.5970433 , 68.80563507, 69.79644599, 67.86697209,\n",
       "       66.98045705, 69.11852273, 69.06637479, 69.79644599, 67.65838032,\n",
       "       68.70133918, 67.44978854, 71.88236373, 70.63081309, 66.98045705,\n",
       "       69.90074188, 70.63081309, 67.50193649, 69.01422684, 66.77186528,\n",
       "       68.49274741, 70.47436926, 68.49274741, 69.53570628, 69.27496656,\n",
       "       67.65838032, 66.30253379, 70.94370075, 68.02341592, 67.7626762 ,\n",
       "       67.29334471, 71.15229252, 69.01422684, 71.36088429, 69.58785422,\n",
       "       71.20444046, 68.85778301, 71.62162401, 68.12771181, 70.21362954,\n",
       "       68.80563507, 68.33630358, 69.06637479, 68.90993096, 69.11852273,\n",
       "       69.37926245, 68.28415564, 70.00503777, 69.22281862, 69.06637479,\n",
       "       69.95288982, 68.38845152, 69.3271145 , 66.14608996, 67.86697209,\n",
       "       69.3271145 , 67.65838032, 68.54489535, 68.70133918, 68.38845152,\n",
       "       70.26577748, 68.38845152, 68.64919124, 68.64919124, 72.4559911 ,\n",
       "       71.20444046, 71.04799663, 68.64919124, 69.43141039, 71.04799663,\n",
       "       68.02341592, 67.3976406 , 67.24119677, 68.64919124, 69.58785422,\n",
       "       68.17985975, 66.66756939, 68.07556386, 70.10933365, 69.95288982,\n",
       "       70.47436926, 66.09394202, 70.21362954, 67.18904883, 67.97126798,\n",
       "       67.60623237, 70.26577748, 71.88236373, 66.09394202, 68.54489535,\n",
       "       68.5970433 , 70.83940486, 72.40384316, 67.032605  , 68.80563507,\n",
       "       68.17985975, 68.75348713, 69.58785422, 65.72890641, 69.22281862,\n",
       "       68.80563507, 68.49274741, 67.08475294, 66.61542145, 70.99584869,\n",
       "       68.07556386, 66.98045705, 68.75348713, 71.10014458, 68.75348713,\n",
       "       69.95288982, 65.20742698, 67.50193649, 68.12771181, 70.42222131,\n",
       "       71.56947607, 69.79644599, 66.98045705, 70.63081309, 70.8915528 ,\n",
       "       67.65838032, 69.84859394, 67.60623237, 65.67675847, 68.02341592,\n",
       "       66.14608996, 70.31792543, 69.17067067, 69.11852273, 68.44059947,\n",
       "       68.23200769, 69.11852273, 69.90074188, 69.64000216, 67.81482415,\n",
       "       67.032605  , 68.75348713, 69.69215011, 69.74429805, 68.54489535,\n",
       "       68.44059947, 68.38845152, 69.84859394, 66.87616117, 68.9620789 ,\n",
       "       69.74429805, 67.44978854, 67.71052826, 70.57866514, 67.24119677,\n",
       "       68.80563507, 71.20444046, 72.56028699, 68.85778301, 66.61542145,\n",
       "       66.98045705, 68.70133918, 68.17985975, 68.85778301, 68.90993096,\n",
       "       68.23200769, 69.06637479, 67.55408443, 69.69215011, 68.5970433 ,\n",
       "       69.48355833, 70.47436926, 69.06637479, 66.04179407, 71.10014458,\n",
       "       68.33630358, 66.66756939, 67.60623237, 67.44978854, 69.06637479,\n",
       "       71.30873635, 67.71052826, 68.90993096, 68.23200769, 68.02341592,\n",
       "       65.20742698])"
      ]
     },
     "execution_count": 42,
     "metadata": {},
     "output_type": "execute_result"
    }
   ],
   "source": [
    "prediction"
   ]
  },
  {
   "cell_type": "code",
   "execution_count": 49,
   "metadata": {},
   "outputs": [
    {
     "data": {
      "text/plain": [
       "[<matplotlib.lines.Line2D at 0x23e994c9988>]"
      ]
     },
     "execution_count": 49,
     "metadata": {},
     "output_type": "execute_result"
    },
    {
     "data": {
      "image/png": "[encoded data removed]",
      "text/plain": [
       "<Figure size 432x288 with 1 Axes>"
      ]
     },
     "metadata": {
      "needs_background": "light"
     },
     "output_type": "display_data"
    }
   ],
   "source": [
    "import matplotlib.pyplot as plt\n",
    "\n",
    "plt.scatter(X_train,y_train,color='c')\n",
    "plt.plot(X_test,prediction,color='b')"
   ]
  },
  {
   "cell_type": "code",
   "execution_count": 50,
   "metadata": {},
   "outputs": [
    {
     "data": {
      "text/plain": [
       "0.20696163550229385"
      ]
     },
     "execution_count": 50,
     "metadata": {},
     "output_type": "execute_result"
    }
   ],
   "source": [
    "#Accuracy\n",
    "from sklearn.metrics import r2_score\n",
    "\n",
    "r2_score(y_test,prediction)"
   ]
  },
  {
   "cell_type": "code",
   "execution_count": 51,
   "metadata": {},
   "outputs": [
    {
     "data": {
      "text/plain": [
       "array([66.1982379])"
      ]
     },
     "execution_count": 51,
     "metadata": {},
     "output_type": "execute_result"
    }
   ],
   "source": [
    "predict2 = result.predict([[63]])\n",
    "predict2"
   ]
  },
  {
   "cell_type": "code",
   "execution_count": 52,
   "metadata": {},
   "outputs": [
    {
     "data": {
      "text/plain": [
       "array([62.02640243])"
      ]
     },
     "execution_count": 52,
     "metadata": {},
     "output_type": "execute_result"
    }
   ],
   "source": [
    "predict3 = result.predict([[55]])\n",
    "predict3"
   ]
  },
  {
   "cell_type": "code",
   "execution_count": 53,
   "metadata": {},
   "outputs": [
    {
     "data": {
      "text/plain": [
       "array([70.5265172])"
      ]
     },
     "execution_count": 53,
     "metadata": {},
     "output_type": "execute_result"
    }
   ],
   "source": [
    "predict4 = result.predict([[71.3]])\n",
    "predict4"
   ]
  },
  {
   "cell_type": "code",
   "execution_count": null,
   "metadata": {},
   "outputs": [],
   "source": []
  }
 ],
 "metadata": {
  "kernelspec": {
   "display_name": "Python 3",
   "language": "python",
   "name": "python3"
  },
  "language_info": {
   "codemirror_mode": {
    "name": "ipython",
    "version": 3
   },
   "file_extension": ".py",
   "mimetype": "text/x-python",
   "name": "python",
   "nbconvert_exporter": "python",
   "pygments_lexer": "ipython3",
   "version": "3.7.6"
  }
 },
 "nbformat": 4,
 "nbformat_minor": 4
}
